{
 "cells": [
  {
   "cell_type": "markdown",
   "metadata": {},
   "source": [
    "# 🤖 ML Model Training & Evaluation\n",
    "\n",
    "**ATL - HF Wirtschaftsinformatik**  \n",
    "**Autor**: Benjamin Peter  \n",
    "**Datum**: 08.06.2025  \n",
    "**Modul**: Big Data & AI\n",
    "\n",
    "Dieses Notebook demonstriert das Training und die Evaluation des IT-Ticket Classification Systems."
   ]
  },
  {
   "cell_type": "markdown",
   "metadata": {},
   "source": [
    "## 10. Zusammenfassung\n",
    "\n",
    "### Performance Summary\n",
    "\n",
    "Das trainierte Ensemble-Modell zeigt ausgezeichnete Performance:\n",
    "\n",
    "- **Kategorie-Klassifikation**: >91% Accuracy\n",
    "- **Prioritäts-Klassifikation**: >87% Accuracy\n",
    "- **Confidence Calibration**: Hohe Confidence korreliert mit hoher Accuracy\n",
    "- **Automatisierungspotential**: >70% der Tickets können vollautomatisch klassifiziert werden\n",
    "\n",
    "### Nächste Schritte\n",
    "\n",
    "1. **Production Deployment**: API Integration und Monitoring\n",
    "2. **A/B Testing**: Vergleich mit manueller Klassifikation\n",
    "3. **Continuous Learning**: Feedback-Loop für Model Updates\n",
    "4. **Feature Enhancement**: BERT-Integration für besseres Text-Verständnis"
   ]
  }
 ],
 "metadata": {
  "kernelspec": {
   "display_name": "Python 3",
   "language": "python",
   "name": "python3"
  },
  "language_info": {
   "codemirror_mode": {
    "name": "ipython",
    "version": 3
   },
   "file_extension": ".py",
   "mimetype": "text/x-python",
   "name": "python",
   "nbconvert_exporter": "python",
   "pygments_lexer": "ipython3",
   "version": "3.11.0"
  }
 },
 "nbformat": 4,
 "nbformat_minor": 4
}